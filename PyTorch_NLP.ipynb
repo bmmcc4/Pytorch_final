{
  "nbformat": 4,
  "nbformat_minor": 0,
  "metadata": {
    "colab": {
      "name": "PyTorch NLP.ipynb",
      "provenance": [],
      "toc_visible": true,
      "authorship_tag": "ABX9TyP452dIQseL6ADVKVKoVVk9",
      "include_colab_link": true
    },
    "kernelspec": {
      "name": "python3",
      "display_name": "Python 3"
    },
    "language_info": {
      "name": "python"
    }
  },
  "cells": [
    {
      "cell_type": "markdown",
      "metadata": {
        "id": "view-in-github",
        "colab_type": "text"
      },
      "source": [
        "<a href=\"https://colab.research.google.com/github/bmmcc4/Pytorch_final/blob/main/PyTorch_NLP.ipynb\" target=\"_parent\"><img src=\"https://colab.research.google.com/assets/colab-badge.svg\" alt=\"Open In Colab\"/></a>"
      ]
    },
    {
      "cell_type": "markdown",
      "metadata": {
        "id": "_WtEqOqecpl3"
      },
      "source": [
        "**PyTorch - NLP From Scratch: Generating names with a Character-Level RNN**"
      ]
    },
    {
      "cell_type": "markdown",
      "metadata": {
        "id": "ONM8JcYTxdKP"
      },
      "source": [
        "**Objective:** Create and train an RNN that will be able to generate names from a language of origin. "
      ]
    },
    {
      "cell_type": "markdown",
      "metadata": {
        "id": "IaKzI27ydNcG"
      },
      "source": [
        "# Grab data from GitHub Repo"
      ]
    },
    {
      "cell_type": "markdown",
      "metadata": {
        "id": "FccjbzDydxH8"
      },
      "source": [
        "Data is in the form of multiple plain text files. The plain text files contain names from different languages of origin from around the world. There are 18 different plain text files, so, 18 different languages of origin. Each plain text file contains a new name on each line. Each plain text files has a varing number of names. Some contain upwards of 2000 whereas others are around 500. Data was provided by PyTorch, stored on GitHub for ease of access."
      ]
    },
    {
      "cell_type": "code",
      "metadata": {
        "colab": {
          "base_uri": "https://localhost:8080/"
        },
        "id": "GPfKV37-Z1WZ",
        "outputId": "da9f3831-64af-4809-efbc-cd00fd2083f6"
      },
      "source": [
        "!ls"
      ],
      "execution_count": 77,
      "outputs": [
        {
          "output_type": "stream",
          "name": "stdout",
          "text": [
            "data  Pytorch_final  sample_data\n"
          ]
        }
      ]
    },
    {
      "cell_type": "code",
      "metadata": {
        "id": "dIZcNRwAa62M"
      },
      "source": [
        "!cd data"
      ],
      "execution_count": 78,
      "outputs": []
    },
    {
      "cell_type": "code",
      "metadata": {
        "colab": {
          "base_uri": "https://localhost:8080/"
        },
        "id": "uC1MMkKobGa0",
        "outputId": "2088a817-c8e3-4bda-9a97-a64fbd4e9e34"
      },
      "source": [
        "# Clone into GitHub Repo with Text name data\n",
        "!git clone https://github.com/bmmcc4/Pytorch_final.git"
      ],
      "execution_count": 79,
      "outputs": [
        {
          "output_type": "stream",
          "name": "stdout",
          "text": [
            "fatal: destination path 'Pytorch_final' already exists and is not an empty directory.\n"
          ]
        }
      ]
    },
    {
      "cell_type": "markdown",
      "metadata": {
        "id": "q0mrYFO6gSpB"
      },
      "source": [
        "# Prepare the Data"
      ]
    },
    {
      "cell_type": "markdown",
      "metadata": {
        "id": "fIBl4CcysWII"
      },
      "source": [
        "Loop through plain text files in specified folder. Split the text on new lines in file into an array. Convert Unicode into ASCII. Save categories into an arr. Save text in each category into a dict with the category as the key."
      ]
    },
    {
      "cell_type": "code",
      "metadata": {
        "id": "xdCuE-75gVkx"
      },
      "source": [
        "# imports\n",
        "from __future__ import unicode_literals, print_function, division\n",
        "from io import open # open and read files in directory\n",
        "import glob # used to find pathnames on a computer\n",
        "import os\n",
        "import unicodedata \n",
        "import string # Collection of string constants\n",
        "import torch\n",
        "import torch.nn as nn\n",
        "import random\n",
        "import time\n",
        "import math\n",
        "import matplotlib.pyplot as plt\n",
        "from IPython.display import Image"
      ],
      "execution_count": 148,
      "outputs": []
    },
    {
      "cell_type": "code",
      "metadata": {
        "id": "1X9B-xDHgjQt"
      },
      "source": [
        "all_letters = string.ascii_letters + \" .,;'-\" \n",
        "# string of all lowercase and uppercase ascii characters (A-Z), it is a constant so it will not change. Common characters are also added to string.\n",
        "\n",
        "n_letters = len(all_letters) + 1 \n",
        "# Plus End of string marker, use len function to calculate length"
      ],
      "execution_count": 106,
      "outputs": []
    },
    {
      "cell_type": "code",
      "metadata": {
        "id": "dCuPM0N9hGpU"
      },
      "source": [
        "def findFiles(path): return glob.glob(path)\n",
        "# define function \"findFiles\", takes in a file path as an argument\n",
        "# function returns the file path that matches the specified pattern\n",
        "# function will allow us to loop through each file in the specified pattern or directory"
      ],
      "execution_count": 107,
      "outputs": []
    },
    {
      "cell_type": "code",
      "metadata": {
        "id": "y1Nze4a1jpAb"
      },
      "source": [
        "# Turn a Unicode string to plain ASCII, thanks to https://stackoverflow.com/a/518232/2809427\n",
        "def unicodeToAscii(s):\n",
        "  return ''.join(\n",
        "      c for c in unicodedata.normalize('NFD', s)\n",
        "      if unicodedata.category(c) != 'Mn'\n",
        "      and c in all_letters\n",
        "  )\n",
        "# Define function to take in a unicode string as an argument and return the Ascii (normalized) string\n",
        "# Its application in this example is to remove written accents from names\n",
        "# Using list comprehension, loop through the letters passed into the function, return c\n",
        "# Mn means nonspacing_mark (symbol with letter)\n",
        "# confirm c is also in all_letters"
      ],
      "execution_count": 108,
      "outputs": []
    },
    {
      "cell_type": "markdown",
      "metadata": {
        "id": "UXIq5pae-ojo"
      },
      "source": [
        "This transformation function is needed because of possible errors that can be caused by irregular letters. ASCII will have simpler characters, and reduce error if everything is normalized."
      ]
    },
    {
      "cell_type": "code",
      "metadata": {
        "id": "3rNzKNfmoZt0"
      },
      "source": [
        "# Read a file and split into lines\n",
        "def readLines(filename):\n",
        "  with open(filename, encoding='utf-8') as some_file:\n",
        "    return [unicodeToAscii(line.strip()) for line in some_file]\n",
        "# Define function to read lines of file, takes in filename as argument\n",
        "# use imported open function to open file for reading\n",
        "# Convert and return each line in text file to Ascii, stripped of any surronding spaces"
      ],
      "execution_count": 109,
      "outputs": []
    },
    {
      "cell_type": "code",
      "metadata": {
        "id": "beJHV8zEqHkd"
      },
      "source": [
        "# Build the category_line dictionary, a list of lines per category\n",
        "category_lines = {} # Create empty dict\n",
        "all_categories = [] # Create empty arr\n",
        "for filename in findFiles('Pytorch_final/*.txt'): # loop through files in directory\n",
        "  category = os.path.splitext(os.path.basename(filename))[0] # isolate the filename from file ext. then save filename into category\n",
        "  all_categories.append(category) # append each category to all_categories arr that was created outside for loop\n",
        "  lines = readLines(filename) # call readLines function for each filename\n",
        "  category_lines[category] = lines # category_lines at specified category will equal lines"
      ],
      "execution_count": 110,
      "outputs": []
    },
    {
      "cell_type": "code",
      "metadata": {
        "id": "RDX_1rCdrrf-"
      },
      "source": [
        "n_categories = len(all_categories) # get lengh of the all_categories arr"
      ],
      "execution_count": 111,
      "outputs": []
    },
    {
      "cell_type": "code",
      "metadata": {
        "id": "3zul22R_r2gi"
      },
      "source": [
        "# Exception handling\n",
        "if n_categories == 0:\n",
        "  raise RuntimeError('Data not found. Make sure that you downloaded data '\n",
        "        'from https://download.pytorch.org/tutorial/data.zip and extract it to '\n",
        "        'the current directory.')"
      ],
      "execution_count": 112,
      "outputs": []
    },
    {
      "cell_type": "code",
      "metadata": {
        "colab": {
          "base_uri": "https://localhost:8080/"
        },
        "id": "v7XXWMk8r9m7",
        "outputId": "d6a1f853-c750-465b-fcb0-cf3028c818dc"
      },
      "source": [
        "# Outputs\n",
        "print('# categories:', n_categories, all_categories)\n",
        "print(unicodeToAscii(\"O'Néàl\"))"
      ],
      "execution_count": 113,
      "outputs": [
        {
          "output_type": "stream",
          "name": "stdout",
          "text": [
            "# categories: 18 ['English', 'Italian', 'Portuguese', 'Russian', 'Czech', 'Polish', 'French', 'Vietnamese', 'German', 'Arabic', 'Spanish', 'Scottish', 'Irish', 'Greek', 'Chinese', 'Japanese', 'Korean', 'Dutch']\n",
            "O'Neal\n"
          ]
        }
      ]
    },
    {
      "cell_type": "markdown",
      "metadata": {
        "id": "RNUi9hZutdr2"
      },
      "source": [
        "# Creating the Network"
      ]
    },
    {
      "cell_type": "markdown",
      "metadata": {
        "id": "QPT9h-oEyTaw"
      },
      "source": [
        "The state of the network is held in the graph (Autograd) and not in the layers, simply create an nn.Linear and reuse it over and over again for the recurrence\n",
        "\n",
        "At a high level, the model will utilize a few linear layers. We will imput a category, then take an input letter one at a time, then predict the next letter which will be used as the next input letter. This process of finding letters will repeat until an EOS token is found. It is known as a \"language model.\"\n",
        "\n",
        "The model takes in 3 different arguments, category, input, and hidden. Input and hidden are needed for any RNN model in this form. Category is needed to represent the language of origin of the name. \n",
        "\n",
        "Per standard convention, the inputs will be stored in tensors. The category, input, and hidden will be concatenated together. \n",
        "\n",
        "Two linear layers will be created, each one to operate on an input and hidden state. Output and hidden will then be concatinated into out_combined.\n",
        "\n",
        "Another linear layer is created (o2o) to give the model more to work with?\n",
        "\n",
        "A dropout layer is then created which will randomly zero parts of its input with a given probability of 0.1 (where did this come from?). We are doing this to help prevent overfitting improve regularization. It is implented near the output to drive sampling variety.\n",
        "\n",
        "A final LogSoftMax layer is added which will help standardize the inputs by making the values proportional to the relative scale of each value in the tensor.\n",
        "\n",
        "The output is then pushed back as an input, therefore, making the network recurrent. "
      ]
    },
    {
      "cell_type": "code",
      "metadata": {
        "colab": {
          "base_uri": "https://localhost:8080/",
          "height": 730
        },
        "id": "pkXJ1nxH_-gU",
        "outputId": "7cf044b4-2bb7-4596-c1a3-5ad1166a3ab9"
      },
      "source": [
        "Image('/content/RNN.png')"
      ],
      "execution_count": 150,
      "outputs": [
        {
          "output_type": "execute_result",
          "data": {
            "image/png": "[encoded data removed]",
            "text/plain": [
              "<IPython.core.display.Image object>"
            ]
          },
          "metadata": {},
          "execution_count": 150
        }
      ]
    },
    {
      "cell_type": "code",
      "metadata": {
        "id": "_m3FibR5tgqz"
      },
      "source": [
        "class RNN(nn.Module):\n",
        "    def __init__(self, input_size, hidden_size, output_size):\n",
        "        super(RNN, self).__init__()\n",
        "        self.hidden_size = hidden_size\n",
        "\n",
        "        self.i2h = nn.Linear(n_categories + input_size + hidden_size, hidden_size)\n",
        "        self.i2o = nn.Linear(n_categories + input_size + hidden_size, output_size)\n",
        "        self.o2o = nn.Linear(hidden_size + output_size, output_size)\n",
        "        self.dropout = nn.Dropout(0.1)\n",
        "        self.softmax = nn.LogSoftmax(dim=1)\n",
        "\n",
        "    def forward(self, category, input, hidden):\n",
        "        input_combined = torch.cat((category, input, hidden), 1)\n",
        "        hidden = self.i2h(input_combined)\n",
        "        output = self.i2o(input_combined)\n",
        "        output_combined = torch.cat((hidden, output), 1)\n",
        "        output = self.o2o(output_combined)\n",
        "        output = self.dropout(output)\n",
        "        output = self.softmax(output)\n",
        "        return output, hidden\n",
        "\n",
        "    def initHidden(self):\n",
        "        return torch.zeros(1, self.hidden_size)"
      ],
      "execution_count": 141,
      "outputs": []
    },
    {
      "cell_type": "markdown",
      "metadata": {
        "id": "yExl55cAHhM4"
      },
      "source": [
        "# Training"
      ]
    },
    {
      "cell_type": "markdown",
      "metadata": {
        "id": "hDDMsKbwKzl-"
      },
      "source": [
        "**Preparing for training**"
      ]
    },
    {
      "cell_type": "code",
      "metadata": {
        "id": "nKCfFj0BHinC"
      },
      "source": [
        "# Random item from a list\n",
        "def randomChoice(l):\n",
        "    return l[random.randint(0, len(l) - 1)]"
      ],
      "execution_count": 116,
      "outputs": []
    },
    {
      "cell_type": "code",
      "metadata": {
        "id": "bEbD-jjtIFzU"
      },
      "source": [
        "# Get a random category and random line from that category\n",
        "def randomTrainingPair():\n",
        "    category = randomChoice(all_categories) # pass all_categories arr to randomChoice func\n",
        "    line = randomChoice(category_lines[category]) # save a random name from a line in determined random category\n",
        "    return category, line"
      ],
      "execution_count": 126,
      "outputs": []
    },
    {
      "cell_type": "markdown",
      "metadata": {
        "id": "9oc5VEgwJc42"
      },
      "source": [
        "The inputs of the network for each letter in a training word (timestep) are (category, current letter, hidden state). The outputs will be (next letter, next hidden state). For each training set, a category, a set of input letter, and a set of output letter will be needed."
      ]
    },
    {
      "cell_type": "markdown",
      "metadata": {
        "id": "moZexk0zLBrw"
      },
      "source": [
        "We will need to create a category tensor that is the size of the number of categories. The category tensor will be a one-hot tensor meaning that a single value will be high (1) while the rest will be low (0). The category tensor is fed to the network at every timestep."
      ]
    },
    {
      "cell_type": "code",
      "metadata": {
        "id": "rRCBBctCLnik"
      },
      "source": [
        "# One-hot vector for category\n",
        "def categoryTensor(category):\n",
        "    li = all_categories.index(category)  # get index of the specified category\n",
        "    tensor = torch.zeros(1, n_categories) # create a tensor of zeros that is the length of the number of categories\n",
        "    tensor[0][li] = 1 # make the value of the tensor at the category index equal to 1\n",
        "    return tensor # return one-hot tensor"
      ],
      "execution_count": 127,
      "outputs": []
    },
    {
      "cell_type": "code",
      "metadata": {
        "id": "UZq5ESMMMAhR"
      },
      "source": [
        "# One-hot matrix of first to last letters (not including EOS) for input\n",
        "def inputTensor(line):\n",
        "  tensor = torch.zeros(len(line), 1, n_letters) # create a matrix of zeros that is length of the number of characters in the random name long, 1 column, and each item is n_letters long\n",
        "  for li in range(len(line)): # loop through letters in line item\n",
        "    letter = line[li] # find line index of letter\n",
        "    tensor[li][0][all_letters.find(letter)] = 1 # Find letter in all_letters, assign that value to one\n",
        "  return tensor # return one-hot matrix"
      ],
      "execution_count": 128,
      "outputs": []
    },
    {
      "cell_type": "code",
      "metadata": {
        "id": "h1Tir-3PNF_7"
      },
      "source": [
        "# LongTensor of second letter to end (EOS) for target\n",
        "def targetTensor(line):\n",
        "  letter_indexes = [all_letters.find(line[li]) for li in range(1, len(line))]\n",
        "  # find next letter index, thats why we start range at 1\n",
        "  letter_indexes.append(n_letters - 1) # EOS\n",
        "  return torch.LongTensor(letter_indexes)"
      ],
      "execution_count": 129,
      "outputs": []
    },
    {
      "cell_type": "code",
      "metadata": {
        "id": "RbXpgFWaPOkD"
      },
      "source": [
        "# make random training example from category, input, and target tensors from a random category and line pair\n",
        "def randomTrainingExample():\n",
        "    category, line = randomTrainingPair()\n",
        "    category_tensor = categoryTensor(category)\n",
        "    input_line_tensor = inputTensor(line)\n",
        "    target_line_tensor = targetTensor(line)\n",
        "    return category_tensor, input_line_tensor, target_line_tensor"
      ],
      "execution_count": 130,
      "outputs": []
    },
    {
      "cell_type": "markdown",
      "metadata": {
        "id": "hTmxkWfZQRkw"
      },
      "source": [
        "**Training the Network**"
      ]
    },
    {
      "cell_type": "markdown",
      "metadata": {
        "id": "_xxCK7Crfado"
      },
      "source": [
        "Loss needs to be calculated at every step because a prediction is being made at every step. The PyTorch Autograd will allow to easily sum the loses and backpropagate through. Autograd will catulate and store the gradients for each model parameter in the parameter's grad attribute."
      ]
    },
    {
      "cell_type": "code",
      "metadata": {
        "id": "vDIdzVpLfsoI"
      },
      "source": [
        "criterion = nn.NLLLoss()\n",
        "\n",
        "learning_rate = 0.0005\n",
        "\n",
        "def train(category_tensor, input_line_tensor, target_line_tensor):\n",
        "    target_line_tensor.unsqueeze_(-1)\n",
        "    hidden = rnn.initHidden()\n",
        "\n",
        "    rnn.zero_grad()\n",
        "\n",
        "    loss = 0\n",
        "\n",
        "    for i in range(input_line_tensor.size(0)):\n",
        "        output, hidden = rnn(category_tensor, input_line_tensor[i], hidden)\n",
        "        l = criterion(output, target_line_tensor[i])\n",
        "        loss += l\n",
        "\n",
        "    loss.backward() # Backprop is kicked off here\n",
        "\n",
        "    for p in rnn.parameters():\n",
        "        p.data.add_(p.grad.data, alpha=-learning_rate) # add gradients to model parameters\n",
        "\n",
        "    return output, loss.item() / input_line_tensor.size(0)"
      ],
      "execution_count": 131,
      "outputs": []
    },
    {
      "cell_type": "code",
      "metadata": {
        "id": "7sISvA_2gH3U"
      },
      "source": [
        "# To keep track of how long training takes, a function to display the time in a human readable string is created\n",
        "def timeSince(since):\n",
        "  now = time.time() # current time\n",
        "  s = now = since\n",
        "  m = math.floor(s / 60) # largest int\n",
        "  s -= m * 60\n",
        "  return '%dm %ds' % (m, s)"
      ],
      "execution_count": 132,
      "outputs": []
    },
    {
      "cell_type": "markdown",
      "metadata": {
        "id": "o6M8JaiWiVhF"
      },
      "source": [
        "The training process is simple, call train a bunch of times on randomTrainingExample. To keep tabs on progress the current time and loss is printed every 5000 examples. All_losses will be used later to validate the model has successfully learned."
      ]
    },
    {
      "cell_type": "code",
      "metadata": {
        "colab": {
          "base_uri": "https://localhost:8080/"
        },
        "id": "dSnovFjxh1Xo",
        "outputId": "1b530353-3bc0-49db-8a79-08e176a77eea"
      },
      "source": [
        "rnn = RNN(n_letters, 128, n_letters)\n",
        "\n",
        "n_iters = 100000 # number of epochs, large number of names in training data\n",
        "print_every = 5000\n",
        "plot_every = 500\n",
        "all_losses = []\n",
        "total_loss = 0 # Reset every plot_every iters\n",
        "\n",
        "start = time.time()\n",
        "\n",
        "for iter in range(1, n_iters + 1): # Start loop\n",
        "    output, loss = train(*randomTrainingExample())\n",
        "    total_loss += loss\n",
        "\n",
        "    if iter % print_every == 0:\n",
        "        print('%s (%d %d%%) %.4f' % (timeSince(start), iter, iter / n_iters * 100, loss))\n",
        "\n",
        "    if iter % plot_every == 0:\n",
        "        all_losses.append(total_loss / plot_every)\n",
        "        total_loss = 0"
      ],
      "execution_count": 133,
      "outputs": [
        {
          "output_type": "stream",
          "name": "stdout",
          "text": [
            "27263992m 46s (5000 5%) 3.2550\n",
            "27263992m 46s (10000 10%) 2.5195\n",
            "27263992m 46s (15000 15%) 2.6188\n",
            "27263992m 46s (20000 20%) 2.3362\n",
            "27263992m 46s (25000 25%) 2.5231\n",
            "27263992m 46s (30000 30%) 3.2493\n",
            "27263992m 46s (35000 35%) 2.8191\n",
            "27263992m 46s (40000 40%) 2.6939\n",
            "27263992m 46s (45000 45%) 2.3437\n",
            "27263992m 46s (50000 50%) 2.8446\n",
            "27263992m 46s (55000 55%) 2.5146\n",
            "27263992m 46s (60000 60%) 1.8118\n",
            "27263992m 46s (65000 65%) 1.8187\n",
            "27263992m 46s (70000 70%) 2.8378\n",
            "27263992m 46s (75000 75%) 1.8895\n",
            "27263992m 46s (80000 80%) 2.8829\n",
            "27263992m 46s (85000 85%) 2.1687\n",
            "27263992m 46s (90000 90%) 2.9199\n",
            "27263992m 46s (95000 95%) 1.9594\n",
            "27263992m 46s (100000 100%) 3.4709\n"
          ]
        }
      ]
    },
    {
      "cell_type": "markdown",
      "metadata": {
        "id": "1_vGOJ3fp33o"
      },
      "source": [
        "**Plotting the Losses**"
      ]
    },
    {
      "cell_type": "markdown",
      "metadata": {
        "id": "k7dEAm7pp9Ku"
      },
      "source": [
        "Using matplotlib to visualize the historical loss, this will in turn be showing the network learning. The graph should model exponential decay as the model learns and loss decreases."
      ]
    },
    {
      "cell_type": "code",
      "metadata": {
        "colab": {
          "base_uri": "https://localhost:8080/",
          "height": 282
        },
        "id": "D7Yh0Qh1jMLR",
        "outputId": "2dfb08e9-95bc-4c73-a9be-868362b98ea6"
      },
      "source": [
        "plt.figure()\n",
        "plt.plot(all_losses)"
      ],
      "execution_count": 135,
      "outputs": [
        {
          "output_type": "execute_result",
          "data": {
            "text/plain": [
              "[<matplotlib.lines.Line2D at 0x7f92726e6250>]"
            ]
          },
          "metadata": {},
          "execution_count": 135
        },
        {
          "output_type": "display_data",
          "data": {
            "image/png": "[encoded data removed]",
            "text/plain": [
              "<Figure size 432x288 with 1 Axes>"
            ]
          },
          "metadata": {
            "needs_background": "light"
          }
        }
      ]
    },
    {
      "cell_type": "markdown",
      "metadata": {
        "id": "G9PJUJ0OqxmY"
      },
      "source": [
        "# Sampling the Network"
      ]
    },
    {
      "cell_type": "markdown",
      "metadata": {
        "id": "ra64GTTOrGzv"
      },
      "source": [
        "Network needs a starting letter which will be supplied, the network is then asked what the next letter is, that letter is fed in as the next letter, this process repeats until the EOS token.\n",
        "\n",
        "PSUEDO CODE:\n",
        "*   Create tensors for input category, starting letter, and empty hidden state\n",
        "*   Create a string output_name with the starting letter\n",
        "*   Up to the maximum output length\n",
        "      - Feed the current letter to the network\n",
        "      - Get the next letter from highest output, and next hidden state\n",
        "      - If the letter is EOS, stop here\n",
        "      - If a regular letter, add to output_name and conttinue\n",
        "*   Return final name\n",
        "\n",
        "\n",
        "\n",
        "\n",
        "\n"
      ]
    },
    {
      "cell_type": "code",
      "metadata": {
        "colab": {
          "base_uri": "https://localhost:8080/"
        },
        "id": "D48ZpQsBqz0d",
        "outputId": "8ddaf83b-5f83-4468-f8e2-47a9e69c38f3"
      },
      "source": [
        "max_length = 20\n",
        "\n",
        "# Sample from a category and starting letter\n",
        "def sample(category, start_letter='A'):\n",
        "    with torch.no_grad():  # no need to track history in sampling\n",
        "        category_tensor = categoryTensor(category)\n",
        "        input = inputTensor(start_letter)\n",
        "        hidden = rnn.initHidden()\n",
        "\n",
        "        output_name = start_letter\n",
        "\n",
        "        for i in range(max_length):\n",
        "            output, hidden = rnn(category_tensor, input[0], hidden)\n",
        "            topv, topi = output.topk(1)\n",
        "            topi = topi[0][0]\n",
        "            if topi == n_letters - 1:\n",
        "                break\n",
        "            else:\n",
        "                letter = all_letters[topi]\n",
        "                output_name += letter\n",
        "            input = inputTensor(letter)\n",
        "\n",
        "        return output_name\n",
        "\n",
        "# Get multiple samples from one category and multiple starting letters\n",
        "def samples(category, start_letters='ABC'):\n",
        "    for start_letter in start_letters:\n",
        "        print(sample(category, start_letter))\n",
        "\n",
        "samples('Russian', 'RUS')\n",
        "\n",
        "samples('German', 'GER')\n",
        "\n",
        "samples('Spanish', 'SPA')\n",
        "\n",
        "samples('Chinese', 'CHI')"
      ],
      "execution_count": 140,
      "outputs": [
        {
          "output_type": "stream",
          "name": "stdout",
          "text": [
            "Rovako\n",
            "Uantovan\n",
            "Santano\n",
            "Gerteng\n",
            "Erenger\n",
            "Ronger\n",
            "Salla\n",
            "Pantara\n",
            "Allan\n",
            "Chang\n",
            "Han\n",
            "Ian\n"
          ]
        }
      ]
    },
    {
      "cell_type": "markdown",
      "metadata": {
        "id": "mFLwNTI0CKU3"
      },
      "source": [
        "# Conclusion"
      ]
    },
    {
      "cell_type": "markdown",
      "metadata": {
        "id": "zOj6n2cGCMyL"
      },
      "source": [
        "The RNN model created was able to successfully generate names based on a language of origin and a starting letter. \n",
        "\n",
        "The approach to create this utilized the functions found in Autograd to sum the losses at each step and backpropagate them through the model. Therefore, creating a model that can effectively be trained and be accurate. \n",
        "\n",
        "Further exercises to improve the model could be taking out the starting letter and using a start of string token during training. This would have the network choose its own starting letter."
      ]
    }
  ]
}